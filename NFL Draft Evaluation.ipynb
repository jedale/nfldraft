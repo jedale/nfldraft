{
 "cells": [
  {
   "cell_type": "markdown",
   "metadata": {},
   "source": [
    "# Evaluating how well NFL Teams Draft Talent"
   ]
  },
  {
   "cell_type": "markdown",
   "metadata": {},
   "source": [
    "In this notebook I'm going to be using data scraped from pro-football-reference.com to evaluate how NFL teams perform at drafting talent. "
   ]
  },
  {
   "cell_type": "code",
   "execution_count": 77,
   "metadata": {
    "collapsed": true
   },
   "outputs": [],
   "source": [
    "from urllib.request import urlopen\n",
    "from bs4 import BeautifulSoup\n",
    "import numpy as np\n",
    "import pandas as pd\n",
    "import matplotlib.pyplot as plt\n",
    "from math import pi\n",
    "\n",
    "from bokeh.io import show\n",
    "from bokeh.models import (\n",
    "    ColumnDataSource,\n",
    "    HoverTool,\n",
    "    LinearColorMapper,\n",
    "    BasicTicker,\n",
    "    PrintfTickFormatter,\n",
    "    ColorBar,\n",
    ")\n",
    "from bokeh.plotting import figure"
   ]
  },
  {
   "cell_type": "markdown",
   "metadata": {},
   "source": [
    "I use this function to scrape and clean draft data from PFR. "
   ]
  },
  {
   "cell_type": "code",
   "execution_count": 78,
   "metadata": {
    "collapsed": true
   },
   "outputs": [],
   "source": [
    "def scrapeDraftData(start, end):\n",
    "    urlprefix = 'https://www.pro-football-reference.com/years/'\n",
    "    urlend = '/draft.htm'\n",
    "    \n",
    "    # will be filling in and returning this guy\n",
    "    master = pd.DataFrame()\n",
    "    \n",
    "    for year in range(start, end + 1):\n",
    "        url = urlprefix + str(year) + urlend\n",
    "        html = urlopen(url).read()\n",
    "        soup = BeautifulSoup(html, 'lxml')\n",
    "        \n",
    "        column_headers = [th.getText() for th in \n",
    "                         soup.findAll('tr', limit=2)[1].findAll('th')]\n",
    "        \n",
    "        data_rows = soup.findAll('tr')[2:]\n",
    "        \n",
    "        # why do we look for both 'th' and 'td'? Because PFR uses the 'th' tag\n",
    "        # for the round in its tables\n",
    "        draft_data = [[td.getText() for td in data_rows[i].findAll(['th', 'td'])]\n",
    "                     for i in range(len(data_rows))]\n",
    "        \n",
    "        df = pd.DataFrame(draft_data, columns = column_headers)\n",
    "        \n",
    "        # having gotten a year of draft data, begin janitoring.\n",
    "        # first task? For comprehensibility on the site PFR repeats\n",
    "        # table headers after each round. But they are easily detected\n",
    "        df = df[df.Rnd != 'Rnd']\n",
    "\n",
    "        # add a column for year; make it the first column\n",
    "        df.insert(loc=0, column='Year', value = year)\n",
    "        \n",
    "        # last column just has a link to college stats; don't care\n",
    "        df = df.drop(labels='', axis=1)\n",
    "        \n",
    "        # need to rename a bunch of columns\n",
    "        # could do this in place but there's sufficiently many that it's \n",
    "        # worth doing in bulk\n",
    "        df.columns = ['Year', \n",
    "                      'Round',\n",
    "                      'Pick',\n",
    "                      'Team',\n",
    "                      'Player',\n",
    "                      'Position',\n",
    "                      'Age',\n",
    "                      'To', # table records last year player played\n",
    "                      'AP1', # first team all pro selections\n",
    "                      'PB', #pro bowl appearances\n",
    "                      'St', # years as a starter\n",
    "                      'CarAV',\n",
    "                      'DrAV',\n",
    "                      'Games',\n",
    "                      'Pass_Cmp', #passing stats here\n",
    "                      'Pass_Att',\n",
    "                      'Pass_Yds',\n",
    "                      'Pass_TD',\n",
    "                      'Pass_Int',\n",
    "                      'Rush_Att', #rushing stats here\n",
    "                      'Rush_Yds',\n",
    "                      'Rush_TD',\n",
    "                      'Rec', #receiving stats\n",
    "                      'Rec_Yds',\n",
    "                      'Rec_TD',\n",
    "                      'Def_Tkl', #defensive stats\n",
    "                      'Def_Int',\n",
    "                      'Def_Sk',\n",
    "                      'College/Univ']\n",
    "        \n",
    "        # convert stuff \n",
    "        # TODO: deprecated; should fix this later\n",
    "        df = df.convert_objects(convert_numeric = True)\n",
    "        \n",
    "        # Missing values should just be zero\n",
    "        df = df[:].fillna(0)\n",
    "        \n",
    "        # more bits of cleaning I've encountered along the way\n",
    "        df = df[df.Team != 0]\n",
    "        df = df[df.Team != '']\n",
    "\n",
    "        \n",
    "        master = master.append(df, ignore_index = True)\n",
    "    \n",
    "    return master"
   ]
  },
  {
   "cell_type": "code",
   "execution_count": 79,
   "metadata": {
    "collapsed": true
   },
   "outputs": [],
   "source": [
    "try:\n",
    "    df_draft = pd.read_csv('Draft_data_2010_2017.csv')\n",
    "except FileNotFoundError:\n",
    "    # hit PFR for data\n",
    "    df_draft = scrapeDraftData(2010, 2017)\n",
    "    df_draft.to_csv('Draft_data_2010_2017.csv')"
   ]
  },
  {
   "cell_type": "code",
   "execution_count": 80,
   "metadata": {},
   "outputs": [
    {
     "data": {
      "text/html": [
       "<div>\n",
       "<style>\n",
       "    .dataframe thead tr:only-child th {\n",
       "        text-align: right;\n",
       "    }\n",
       "\n",
       "    .dataframe thead th {\n",
       "        text-align: left;\n",
       "    }\n",
       "\n",
       "    .dataframe tbody tr th {\n",
       "        vertical-align: top;\n",
       "    }\n",
       "</style>\n",
       "<table border=\"1\" class=\"dataframe\">\n",
       "  <thead>\n",
       "    <tr style=\"text-align: right;\">\n",
       "      <th></th>\n",
       "      <th>Year</th>\n",
       "      <th>Pick</th>\n",
       "      <th>Team</th>\n",
       "      <th>Player</th>\n",
       "      <th>Position</th>\n",
       "      <th>CarAV</th>\n",
       "      <th>DrAV</th>\n",
       "    </tr>\n",
       "  </thead>\n",
       "  <tbody>\n",
       "    <tr>\n",
       "      <th>0</th>\n",
       "      <td>2010</td>\n",
       "      <td>1.0</td>\n",
       "      <td>STL</td>\n",
       "      <td>Sam Bradford</td>\n",
       "      <td>QB</td>\n",
       "      <td>43.0</td>\n",
       "      <td>23.0</td>\n",
       "    </tr>\n",
       "    <tr>\n",
       "      <th>1</th>\n",
       "      <td>2010</td>\n",
       "      <td>2.0</td>\n",
       "      <td>DET</td>\n",
       "      <td>Ndamukong Suh</td>\n",
       "      <td>DT</td>\n",
       "      <td>79.0</td>\n",
       "      <td>58.0</td>\n",
       "    </tr>\n",
       "    <tr>\n",
       "      <th>2</th>\n",
       "      <td>2010</td>\n",
       "      <td>3.0</td>\n",
       "      <td>TAM</td>\n",
       "      <td>Gerald McCoy</td>\n",
       "      <td>DT</td>\n",
       "      <td>61.0</td>\n",
       "      <td>61.0</td>\n",
       "    </tr>\n",
       "    <tr>\n",
       "      <th>3</th>\n",
       "      <td>2010</td>\n",
       "      <td>4.0</td>\n",
       "      <td>WAS</td>\n",
       "      <td>Trent Williams</td>\n",
       "      <td>T</td>\n",
       "      <td>61.0</td>\n",
       "      <td>61.0</td>\n",
       "    </tr>\n",
       "    <tr>\n",
       "      <th>4</th>\n",
       "      <td>2010</td>\n",
       "      <td>5.0</td>\n",
       "      <td>KAN</td>\n",
       "      <td>Eric Berry</td>\n",
       "      <td>DB</td>\n",
       "      <td>48.0</td>\n",
       "      <td>48.0</td>\n",
       "    </tr>\n",
       "  </tbody>\n",
       "</table>\n",
       "</div>"
      ],
      "text/plain": [
       "   Year  Pick Team          Player Position  CarAV  DrAV\n",
       "0  2010   1.0  STL    Sam Bradford       QB   43.0  23.0\n",
       "1  2010   2.0  DET   Ndamukong Suh       DT   79.0  58.0\n",
       "2  2010   3.0  TAM    Gerald McCoy       DT   61.0  61.0\n",
       "3  2010   4.0  WAS  Trent Williams        T   61.0  61.0\n",
       "4  2010   5.0  KAN      Eric Berry       DB   48.0  48.0"
      ]
     },
     "execution_count": 80,
     "metadata": {},
     "output_type": "execute_result"
    }
   ],
   "source": [
    "df_draft[['Year', 'Pick', 'Team', 'Player', 'Position', 'CarAV', 'DrAV']].head()"
   ]
  },
  {
   "cell_type": "markdown",
   "metadata": {},
   "source": [
    "For purposes of analysis, I'm going to be evaluating players using a metric created by PFR called Approximate Value (AV). More about AV can be found [https://www.pro-football-reference.com/blog/index37a8.html]here. Why AV and not some other metric (DYAR, PFF grades, something homebrew)? Because AV is already in the data I scraped from PFR and I don't believe in reinventing the wheel. AV may not be perfect, but no metric is. \n",
    "\n",
    "PFR data include two AV metrics, displayed above. CarAV is Career AV, and accumulates for a player over the course of his career. DrAV is the AV a player accumulated while playing for the team that drafted him. For instance, note that Sam Bradford's CarAV and DrAV are different, this is because he played only a portion of his career for the team that drafted him (the Rams). On the other hand, Gerald McCoy's CarVA and DrAV are equal, indicating he's played his entire career for Tampa Bay. \n",
    "\n",
    "This also highlights a bit of data janitoring I need to do. Note that Sam Bradford's team is coded as 'STL', which is the Saint Louis Rams. The Rams are no longer in St. Louis, having moved to LA two years ago. Likewise the San Diego Chargers also now play in LA. For purposes of this analysis, I prefer to maintain continuity across the teams."
   ]
  },
  {
   "cell_type": "code",
   "execution_count": 81,
   "metadata": {},
   "outputs": [
    {
     "data": {
      "text/html": [
       "<div>\n",
       "<style>\n",
       "    .dataframe thead tr:only-child th {\n",
       "        text-align: right;\n",
       "    }\n",
       "\n",
       "    .dataframe thead th {\n",
       "        text-align: left;\n",
       "    }\n",
       "\n",
       "    .dataframe tbody tr th {\n",
       "        vertical-align: top;\n",
       "    }\n",
       "</style>\n",
       "<table border=\"1\" class=\"dataframe\">\n",
       "  <thead>\n",
       "    <tr style=\"text-align: right;\">\n",
       "      <th></th>\n",
       "      <th>Year</th>\n",
       "      <th>Pick</th>\n",
       "      <th>Team</th>\n",
       "      <th>Player</th>\n",
       "      <th>Position</th>\n",
       "      <th>CarAV</th>\n",
       "      <th>DrAV</th>\n",
       "    </tr>\n",
       "  </thead>\n",
       "  <tbody>\n",
       "    <tr>\n",
       "      <th>0</th>\n",
       "      <td>2010</td>\n",
       "      <td>1.0</td>\n",
       "      <td>LAR</td>\n",
       "      <td>Sam Bradford</td>\n",
       "      <td>QB</td>\n",
       "      <td>43.0</td>\n",
       "      <td>23.0</td>\n",
       "    </tr>\n",
       "    <tr>\n",
       "      <th>1</th>\n",
       "      <td>2010</td>\n",
       "      <td>2.0</td>\n",
       "      <td>DET</td>\n",
       "      <td>Ndamukong Suh</td>\n",
       "      <td>DT</td>\n",
       "      <td>79.0</td>\n",
       "      <td>58.0</td>\n",
       "    </tr>\n",
       "    <tr>\n",
       "      <th>2</th>\n",
       "      <td>2010</td>\n",
       "      <td>3.0</td>\n",
       "      <td>TAM</td>\n",
       "      <td>Gerald McCoy</td>\n",
       "      <td>DT</td>\n",
       "      <td>61.0</td>\n",
       "      <td>61.0</td>\n",
       "    </tr>\n",
       "    <tr>\n",
       "      <th>3</th>\n",
       "      <td>2010</td>\n",
       "      <td>4.0</td>\n",
       "      <td>WAS</td>\n",
       "      <td>Trent Williams</td>\n",
       "      <td>T</td>\n",
       "      <td>61.0</td>\n",
       "      <td>61.0</td>\n",
       "    </tr>\n",
       "    <tr>\n",
       "      <th>4</th>\n",
       "      <td>2010</td>\n",
       "      <td>5.0</td>\n",
       "      <td>KAN</td>\n",
       "      <td>Eric Berry</td>\n",
       "      <td>DB</td>\n",
       "      <td>48.0</td>\n",
       "      <td>48.0</td>\n",
       "    </tr>\n",
       "  </tbody>\n",
       "</table>\n",
       "</div>"
      ],
      "text/plain": [
       "   Year  Pick Team          Player Position  CarAV  DrAV\n",
       "0  2010   1.0  LAR    Sam Bradford       QB   43.0  23.0\n",
       "1  2010   2.0  DET   Ndamukong Suh       DT   79.0  58.0\n",
       "2  2010   3.0  TAM    Gerald McCoy       DT   61.0  61.0\n",
       "3  2010   4.0  WAS  Trent Williams        T   61.0  61.0\n",
       "4  2010   5.0  KAN      Eric Berry       DB   48.0  48.0"
      ]
     },
     "execution_count": 81,
     "metadata": {},
     "output_type": "execute_result"
    }
   ],
   "source": [
    "df_draft.loc[df_draft['Team'] == 'STL','Team'] = 'LAR'\n",
    "df_draft.loc[df_draft['Team'] == 'SDG','Team'] = 'LAC'\n",
    "df_draft[['Year', 'Pick', 'Team', 'Player', 'Position', 'CarAV', 'DrAV']].head()"
   ]
  },
  {
   "cell_type": "markdown",
   "metadata": {},
   "source": [
    "There are two ways to consider how well a team has drafted. First, I can look at the total AV a team receieved in each draft."
   ]
  },
  {
   "cell_type": "code",
   "execution_count": 82,
   "metadata": {},
   "outputs": [
    {
     "data": {
      "text/plain": [
       "Team\n",
       "GNB    155.0\n",
       "DET    147.0\n",
       "PIT    118.0\n",
       "ARI    114.0\n",
       "PHI    111.0\n",
       "Name: CarAV, dtype: float64"
      ]
     },
     "execution_count": 82,
     "metadata": {},
     "output_type": "execute_result"
    }
   ],
   "source": [
    "df_draft[df_draft.Year == 2013].groupby('Team').CarAV.sum().sort_values(ascending=False).head()"
   ]
  },
  {
   "cell_type": "markdown",
   "metadata": {},
   "source": [
    "This is in a sense the total value provided by the players drafted by each team in 2013. By this metric, it seems that Green Bay and Detroit did especially well that year. But that's not the whole story! For starters, teams do not have the same number of picks, both within and across drafts. Picks can be traded (for players, or for other picks), teams can be granted so-called 'compensatory' picks for losing players to free agency, and can even have picks taken away as a disciplinary action. In order to understand how well teams have done, one thing we can do is look at the \"average\" AV generated by players a team drafted. "
   ]
  },
  {
   "cell_type": "code",
   "execution_count": 83,
   "metadata": {},
   "outputs": [
    {
     "data": {
      "text/plain": [
       "Team\n",
       "NOR    17.400000\n",
       "CAR    16.800000\n",
       "DET    16.333333\n",
       "CHI    16.000000\n",
       "LAC    15.333333\n",
       "Name: CarAV, dtype: float64"
      ]
     },
     "execution_count": 83,
     "metadata": {},
     "output_type": "execute_result"
    }
   ],
   "source": [
    "df_draft[df_draft.Year == 2013].groupby('Team').CarAV.mean().sort_values(ascending=False).head()"
   ]
  },
  {
   "cell_type": "markdown",
   "metadata": {},
   "source": [
    "Note that these two lists do not in general resemble one another! While players drafted by Green Bay in 2013 generated the most value in total, New Orleans was more efficient in using its picks. \n",
    "\n",
    "This still doesn't tell the whole story. The NFL draft is a sequential process: each team is given a ranking from 1 to 32 based on their performance in the previous season (the worst team gets the first pick; the Super Bowl winner gets the 32nd pick). Assuming teams know what they're doing (which we'll see is a big assumption), it would stand to reason that teams with earlier picks should get the better players. In order to account for this, we need to come up with some way of defining the value a team *should* have gotten given a pick. To wit: I need to construct an estimate of the distribution of approximate value conditioned on pick number for each year. "
   ]
  },
  {
   "cell_type": "code",
   "execution_count": 84,
   "metadata": {},
   "outputs": [
    {
     "data": {
      "image/png": "[encoded data removed]",
      "text/plain": [
       "<matplotlib.figure.Figure at 0x23ee9cf1b38>"
      ]
     },
     "metadata": {},
     "output_type": "display_data"
    }
   ],
   "source": [
    "%matplotlib inline\n",
    "\n",
    "y = df_draft[df_draft.Year == 2013].CarAV.values.reshape(-1,1)\n",
    "x = np.linspace(1, len(y), len(y))\n",
    "\n",
    "plt.scatter(x, y, color='black')\n",
    "plt.xlabel('Draft Pick')\n",
    "plt.ylabel('Career Approximate Value')\n",
    "plt.show()"
   ]
  },
  {
   "cell_type": "markdown",
   "metadata": {},
   "source": [
    "The plot looks about as we'd expect. As I intuited, in general the value generated by a player is declining as he falls in the draft, though there's a high amount of variance (for instance, note that the \"best\" player in this draft was drafted with a pick above 50, and the second best player was drafted with a pick somewhere around 125). There's also a lot of clustering down toward zero as you get to around the 100th pick, this indicates players who likely didn't play in the league at all. \n",
    "\n",
    "In order to evaluate how well teams did with their picks, we have to come up with a notion of how well we'd expect them to do. To do this I want to form the conditional expectation of CarAV given a pick number. While I could just fit a linear regression line to the data, there does seme to be some amount of nonlinearity. If you squint at the data it looks vaguely logistic, but honestly I'm a fan of nonparametric style analysis so I'm going to just fit a spline to this thing. For more splines, go here. "
   ]
  },
  {
   "cell_type": "code",
   "execution_count": 85,
   "metadata": {},
   "outputs": [
    {
     "data": {
      "image/png": "[encoded data removed]",
      "text/plain": [
       "<matplotlib.figure.Figure at 0x23eec404630>"
      ]
     },
     "metadata": {},
     "output_type": "display_data"
    }
   ],
   "source": [
    "from scipy.interpolate import UnivariateSpline\n",
    "\n",
    "# the tuning parameter s is not something I understand well! \n",
    "s = UnivariateSpline(x, y, s=25000)\n",
    "yhat = s(x)\n",
    "plt.scatter(x, y, color='black')\n",
    "plt.plot(x, yhat, color='b')\n",
    "plt.xlabel('Draft Pick')\n",
    "plt.ylabel('Career Approximate Value')\n",
    "plt.show()"
   ]
  },
  {
   "cell_type": "markdown",
   "metadata": {},
   "source": [
    "That curve more or less looks reasonable. Points above the curve represent players who exceeded their expectation given their draft position. Points below the curve represent players who fell short. By comparing the distance between the curve and the points above and below it, I can create a metric to measure how well a team did with a given pick. I will call this metric \"RV\" for residual value.\n",
    "\n",
    "For example, let's have a look at the 2013 draft (since I've already computed the expected value in the code above)."
   ]
  },
  {
   "cell_type": "code",
   "execution_count": 86,
   "metadata": {},
   "outputs": [
    {
     "name": "stderr",
     "output_type": "stream",
     "text": [
      "C:\\ProgramData\\Anaconda3\\lib\\site-packages\\ipykernel_launcher.py:2: SettingWithCopyWarning: \n",
      "A value is trying to be set on a copy of a slice from a DataFrame.\n",
      "Try using .loc[row_indexer,col_indexer] = value instead\n",
      "\n",
      "See the caveats in the documentation: http://pandas.pydata.org/pandas-docs/stable/indexing.html#indexing-view-versus-copy\n",
      "  \n"
     ]
    },
    {
     "data": {
      "text/html": [
       "<div>\n",
       "<style>\n",
       "    .dataframe thead tr:only-child th {\n",
       "        text-align: right;\n",
       "    }\n",
       "\n",
       "    .dataframe thead th {\n",
       "        text-align: left;\n",
       "    }\n",
       "\n",
       "    .dataframe tbody tr th {\n",
       "        vertical-align: top;\n",
       "    }\n",
       "</style>\n",
       "<table border=\"1\" class=\"dataframe\">\n",
       "  <thead>\n",
       "    <tr style=\"text-align: right;\">\n",
       "      <th></th>\n",
       "      <th>Pick</th>\n",
       "      <th>Team</th>\n",
       "      <th>Player</th>\n",
       "      <th>Position</th>\n",
       "      <th>CarAV</th>\n",
       "      <th>RV</th>\n",
       "    </tr>\n",
       "  </thead>\n",
       "  <tbody>\n",
       "    <tr>\n",
       "      <th>766</th>\n",
       "      <td>1.0</td>\n",
       "      <td>KAN</td>\n",
       "      <td>Eric Fisher</td>\n",
       "      <td>T</td>\n",
       "      <td>36.0</td>\n",
       "      <td>9.184740</td>\n",
       "    </tr>\n",
       "    <tr>\n",
       "      <th>767</th>\n",
       "      <td>2.0</td>\n",
       "      <td>JAX</td>\n",
       "      <td>Luke Joeckel</td>\n",
       "      <td>T</td>\n",
       "      <td>22.0</td>\n",
       "      <td>-4.617768</td>\n",
       "    </tr>\n",
       "    <tr>\n",
       "      <th>768</th>\n",
       "      <td>3.0</td>\n",
       "      <td>MIA</td>\n",
       "      <td>Dion Jordan</td>\n",
       "      <td>DE</td>\n",
       "      <td>4.0</td>\n",
       "      <td>-22.421190</td>\n",
       "    </tr>\n",
       "    <tr>\n",
       "      <th>769</th>\n",
       "      <td>4.0</td>\n",
       "      <td>PHI</td>\n",
       "      <td>Lane Johnson</td>\n",
       "      <td>T</td>\n",
       "      <td>34.0</td>\n",
       "      <td>7.774475</td>\n",
       "    </tr>\n",
       "    <tr>\n",
       "      <th>770</th>\n",
       "      <td>5.0</td>\n",
       "      <td>DET</td>\n",
       "      <td>Ezekiel Ansah</td>\n",
       "      <td>DE</td>\n",
       "      <td>36.0</td>\n",
       "      <td>9.969228</td>\n",
       "    </tr>\n",
       "  </tbody>\n",
       "</table>\n",
       "</div>"
      ],
      "text/plain": [
       "     Pick Team         Player Position  CarAV         RV\n",
       "766   1.0  KAN    Eric Fisher        T   36.0   9.184740\n",
       "767   2.0  JAX   Luke Joeckel        T   22.0  -4.617768\n",
       "768   3.0  MIA    Dion Jordan       DE    4.0 -22.421190\n",
       "769   4.0  PHI   Lane Johnson        T   34.0   7.774475\n",
       "770   5.0  DET  Ezekiel Ansah       DE   36.0   9.969228"
      ]
     },
     "execution_count": 86,
     "metadata": {},
     "output_type": "execute_result"
    }
   ],
   "source": [
    "df_2013 = df_draft[df_draft['Year'] == 2013]\n",
    "df_2013['RV'] = df_2013['CarAV'] - yhat\n",
    "df_2013[['Pick', 'Team', 'Player', 'Position', 'CarAV', 'RV']].head()"
   ]
  },
  {
   "cell_type": "markdown",
   "metadata": {},
   "source": [
    "From above, we can see that Kansas City, Philadelphia, and Detroit did pretty well with their first picks in 2013. On the other hand, Jacksonville and Miami did poorly. By coincidence, both Luke Joeckel *and* Dion Jordan played for the Seahawks (my team) in 2017. Go Hawks?\n",
    "\n",
    "Using this metric, I can now estimate which teams were the big winners and losers in the 2013 draft, both on a total basis and on a per-pick basis. "
   ]
  },
  {
   "cell_type": "code",
   "execution_count": 88,
   "metadata": {},
   "outputs": [
    {
     "data": {
      "text/plain": [
       "Team\n",
       "GNB    60.483488\n",
       "DET    53.524404\n",
       "CHI    30.858118\n",
       "NOR    22.319040\n",
       "PIT    22.223889\n",
       "Name: RV, dtype: float64"
      ]
     },
     "execution_count": 88,
     "metadata": {},
     "output_type": "execute_result"
    }
   ],
   "source": [
    "df_2013.groupby('Team').RV.sum().sort_values(ascending=False).head()"
   ]
  },
  {
   "cell_type": "code",
   "execution_count": 89,
   "metadata": {},
   "outputs": [
    {
     "data": {
      "text/plain": [
       "Team\n",
       "DET    5.947156\n",
       "GNB    5.498499\n",
       "CHI    5.143020\n",
       "NOR    4.463808\n",
       "CAR    3.577278\n",
       "Name: RV, dtype: float64"
      ]
     },
     "execution_count": 89,
     "metadata": {},
     "output_type": "execute_result"
    }
   ],
   "source": [
    "df_2013.groupby('Team').RV.mean().sort_values(ascending=False).head()"
   ]
  },
  {
   "cell_type": "markdown",
   "metadata": {},
   "source": [
    "These two lists actually do mirror one another pretty well, which is nice. Green Bay and Detroit both killed it in this draft; though Detroit as a bit more efficient. Now what about the losers?"
   ]
  },
  {
   "cell_type": "code",
   "execution_count": 90,
   "metadata": {},
   "outputs": [
    {
     "data": {
      "text/plain": [
       "Team\n",
       "SFO   -29.063554\n",
       "CLE   -29.799522\n",
       "SEA   -30.611013\n",
       "MIA   -35.645488\n",
       "TEN   -36.601042\n",
       "Name: RV, dtype: float64"
      ]
     },
     "execution_count": 90,
     "metadata": {},
     "output_type": "execute_result"
    }
   ],
   "source": [
    "df_2013.groupby('Team').RV.sum().sort_values(ascending=False).tail()"
   ]
  },
  {
   "cell_type": "code",
   "execution_count": 107,
   "metadata": {},
   "outputs": [
    {
     "data": {
      "text/plain": [
       "Team\n",
       "IND   -3.698024\n",
       "DEN   -3.941630\n",
       "MIA   -3.960610\n",
       "TEN   -4.575130\n",
       "CLE   -5.959904\n",
       "Name: RV, dtype: float64"
      ]
     },
     "execution_count": 107,
     "metadata": {},
     "output_type": "execute_result"
    }
   ],
   "source": [
    "df_2013.groupby('Team').RV.mean().sort_values(ascending=False).tail()"
   ]
  },
  {
   "cell_type": "markdown",
   "metadata": {},
   "source": [
    "As a Seattle fan, it pains me to see them on this list. In fact the 2013 draft was part of the reason I became interested in this project, for reasons that will become clear soon. Along with Seattle, the big losers are a rogue's league of bad teams. In fact in terms of performance, Seattle is a major outlier in that list. Note though that while they did poorly overall, their pick efficiency wasn't bottom-five. So that's nice.\n",
    "\n",
    "I'm pretty comfortable with this metric, so now it's time to perform it for the larger data set. "
   ]
  },
  {
   "cell_type": "code",
   "execution_count": 92,
   "metadata": {
    "collapsed": true
   },
   "outputs": [],
   "source": [
    "for year in df_draft.Year.unique():\n",
    "    y = df_draft[df_draft['Year'] == year].CarAV.values.reshape(-1, 1)\n",
    "    x = np.linspace(1, len(y), len(y))\n",
    "    s = UnivariateSpline(x, y, s=25000)\n",
    "    yhat = s(x)\n",
    "    df_draft.loc[df_draft['Year'] == year,'RV'] = df_draft[df_draft['Year'] == year].CarAV - yhat"
   ]
  },
  {
   "cell_type": "markdown",
   "metadata": {},
   "source": [
    "Having done this, let me look at how teams have done overall for the eight-year period 2010-2017:"
   ]
  },
  {
   "cell_type": "code",
   "execution_count": 93,
   "metadata": {
    "collapsed": true
   },
   "outputs": [],
   "source": [
    "RV_total = df_draft.groupby('Team').RV.sum().sort_values(ascending=False)\n",
    "RV_mean = df_draft.groupby('Team').RV.mean().sort_values(ascending=False)\n",
    "df_RV = pd.concat([RV_total, RV_mean], axis=1)\n",
    "df_RV.columns = ['Total RV', 'RV per pick']"
   ]
  },
  {
   "cell_type": "code",
   "execution_count": 94,
   "metadata": {},
   "outputs": [
    {
     "data": {
      "text/html": [
       "<div>\n",
       "<style>\n",
       "    .dataframe thead tr:only-child th {\n",
       "        text-align: right;\n",
       "    }\n",
       "\n",
       "    .dataframe thead th {\n",
       "        text-align: left;\n",
       "    }\n",
       "\n",
       "    .dataframe tbody tr th {\n",
       "        vertical-align: top;\n",
       "    }\n",
       "</style>\n",
       "<table border=\"1\" class=\"dataframe\">\n",
       "  <thead>\n",
       "    <tr style=\"text-align: right;\">\n",
       "      <th></th>\n",
       "      <th>Total RV</th>\n",
       "      <th>RV per pick</th>\n",
       "    </tr>\n",
       "  </thead>\n",
       "  <tbody>\n",
       "    <tr>\n",
       "      <th>SEA</th>\n",
       "      <td>144.295433</td>\n",
       "      <td>1.873967</td>\n",
       "    </tr>\n",
       "    <tr>\n",
       "      <th>GNB</th>\n",
       "      <td>130.391695</td>\n",
       "      <td>1.862738</td>\n",
       "    </tr>\n",
       "    <tr>\n",
       "      <th>DAL</th>\n",
       "      <td>90.341430</td>\n",
       "      <td>1.411585</td>\n",
       "    </tr>\n",
       "    <tr>\n",
       "      <th>NOR</th>\n",
       "      <td>73.523362</td>\n",
       "      <td>1.500477</td>\n",
       "    </tr>\n",
       "    <tr>\n",
       "      <th>OAK</th>\n",
       "      <td>58.521294</td>\n",
       "      <td>0.860607</td>\n",
       "    </tr>\n",
       "  </tbody>\n",
       "</table>\n",
       "</div>"
      ],
      "text/plain": [
       "       Total RV  RV per pick\n",
       "SEA  144.295433     1.873967\n",
       "GNB  130.391695     1.862738\n",
       "DAL   90.341430     1.411585\n",
       "NOR   73.523362     1.500477\n",
       "OAK   58.521294     0.860607"
      ]
     },
     "execution_count": 94,
     "metadata": {},
     "output_type": "execute_result"
    }
   ],
   "source": [
    "df_RV.sort_values(by='Total RV', ascending=False).head()"
   ]
  },
  {
   "cell_type": "markdown",
   "metadata": {},
   "source": [
    "It's nice to see Seattle at the top of that list, despite their dreadful 2013 draft. But how did they get up there? To answer that question, I turn to some visualization. First I'm going to build some new dataframes..."
   ]
  },
  {
   "cell_type": "code",
   "execution_count": 108,
   "metadata": {
    "collapsed": true
   },
   "outputs": [],
   "source": [
    "column_headers = ['2010', '2011', '2012', '2013', '2014', '2015', '2016', '2017']\n",
    "index_ordered = ['BUF', 'MIA', 'NYJ', 'NWE',\n",
    "               'BAL', 'CIN', 'CLE', 'PIT',\n",
    "               'IND', 'JAX', 'HOU', 'TEN',\n",
    "               'DEN', 'KAN', 'LAC', 'OAK',\n",
    "               'DAL', 'NYG', 'PHI', 'WAS',\n",
    "               'CHI', 'DET', 'GNB', 'MIN',\n",
    "               'ATL', 'CAR', 'NOR', 'TAM',\n",
    "               'ARI', 'LAR', 'SFO', 'SEA']\n",
    "\n",
    "df_RVSum = pd.concat([df_draft[df_draft['Year'] == year].groupby('Team').RV.sum() for year in df_draft.Year.unique()], axis=1)\n",
    "df_RVSum.columns = column_headers\n",
    "df_RVSum = df_RVSum.reindex(index = index_ordered)\n",
    "\n",
    "df_RVmean = pd.concat([df_draft[df_draft['Year'] == year].groupby('Team').RV.mean()for year in df_draft.Year.unique()], axis=1)\n",
    "df_RVmean.columns = column_headers\n",
    "df_RVmean = df_RVmean.reindex(index = index_ordered)"
   ]
  },
  {
   "cell_type": "code",
   "execution_count": 170,
   "metadata": {},
   "outputs": [
    {
     "data": {
      "text/plain": [
       "Team\n",
       "NOR    20.180604\n",
       "LAR     7.036791\n",
       "CHI     6.479174\n",
       "SFO     6.409159\n",
       "JAX     6.261888\n",
       "HOU     6.047586\n",
       "MIN     5.361545\n",
       "KAN     4.777305\n",
       "DET     4.511635\n",
       "BUF     4.122439\n",
       "NYG     3.598191\n",
       "PIT     3.566808\n",
       "CAR     0.363574\n",
       "TAM    -0.059126\n",
       "NYJ    -0.657526\n",
       "WAS    -1.230855\n",
       "ARI    -1.542193\n",
       "GNB    -1.867180\n",
       "CIN    -1.966555\n",
       "DAL    -2.833312\n",
       "CLE    -3.138732\n",
       "MIA    -3.189783\n",
       "OAK    -3.399980\n",
       "TEN    -4.106102\n",
       "NWE    -5.277592\n",
       "LAC    -5.978674\n",
       "IND    -6.133523\n",
       "SEA    -6.303343\n",
       "ATL    -6.347505\n",
       "PHI    -6.887514\n",
       "BAL    -8.613826\n",
       "DEN    -9.183379\n",
       "Name: 2017, dtype: float64"
      ]
     },
     "execution_count": 170,
     "metadata": {},
     "output_type": "execute_result"
    }
   ],
   "source": [
    "df_RVSum['2017'].sort_values(ascending=False)"
   ]
  },
  {
   "cell_type": "code",
   "execution_count": 189,
   "metadata": {},
   "outputs": [
    {
     "data": {
      "text/html": [
       "<div>\n",
       "<style>\n",
       "    .dataframe thead tr:only-child th {\n",
       "        text-align: right;\n",
       "    }\n",
       "\n",
       "    .dataframe thead th {\n",
       "        text-align: left;\n",
       "    }\n",
       "\n",
       "    .dataframe tbody tr th {\n",
       "        vertical-align: top;\n",
       "    }\n",
       "</style>\n",
       "<table border=\"1\" class=\"dataframe\">\n",
       "  <thead>\n",
       "    <tr style=\"text-align: right;\">\n",
       "      <th></th>\n",
       "      <th>Pick</th>\n",
       "      <th>Player</th>\n",
       "      <th>RV</th>\n",
       "    </tr>\n",
       "  </thead>\n",
       "  <tbody>\n",
       "    <tr>\n",
       "      <th>1820</th>\n",
       "      <td>35.0</td>\n",
       "      <td>Malik McDowell</td>\n",
       "      <td>-3.926334</td>\n",
       "    </tr>\n",
       "    <tr>\n",
       "      <th>1843</th>\n",
       "      <td>58.0</td>\n",
       "      <td>Ethan Pocic</td>\n",
       "      <td>1.618394</td>\n",
       "    </tr>\n",
       "    <tr>\n",
       "      <th>1875</th>\n",
       "      <td>90.0</td>\n",
       "      <td>Shaquill Griffin</td>\n",
       "      <td>1.306580</td>\n",
       "    </tr>\n",
       "    <tr>\n",
       "      <th>1880</th>\n",
       "      <td>95.0</td>\n",
       "      <td>Delano Hill</td>\n",
       "      <td>-1.592872</td>\n",
       "    </tr>\n",
       "    <tr>\n",
       "      <th>1887</th>\n",
       "      <td>102.0</td>\n",
       "      <td>Nazair Jones</td>\n",
       "      <td>-0.455161</td>\n",
       "    </tr>\n",
       "    <tr>\n",
       "      <th>1891</th>\n",
       "      <td>106.0</td>\n",
       "      <td>Amara Darboh</td>\n",
       "      <td>-1.378047</td>\n",
       "    </tr>\n",
       "    <tr>\n",
       "      <th>1896</th>\n",
       "      <td>111.0</td>\n",
       "      <td>Tedric Thompson</td>\n",
       "      <td>-1.283247</td>\n",
       "    </tr>\n",
       "    <tr>\n",
       "      <th>1972</th>\n",
       "      <td>187.0</td>\n",
       "      <td>Michael Tyson</td>\n",
       "      <td>-1.043838</td>\n",
       "    </tr>\n",
       "    <tr>\n",
       "      <th>1995</th>\n",
       "      <td>210.0</td>\n",
       "      <td>Justin Senior</td>\n",
       "      <td>-0.735955</td>\n",
       "    </tr>\n",
       "    <tr>\n",
       "      <th>2011</th>\n",
       "      <td>226.0</td>\n",
       "      <td>David Moore</td>\n",
       "      <td>-0.537964</td>\n",
       "    </tr>\n",
       "    <tr>\n",
       "      <th>2034</th>\n",
       "      <td>249.0</td>\n",
       "      <td>Chris Carson</td>\n",
       "      <td>1.725101</td>\n",
       "    </tr>\n",
       "  </tbody>\n",
       "</table>\n",
       "</div>"
      ],
      "text/plain": [
       "       Pick            Player        RV\n",
       "1820   35.0    Malik McDowell -3.926334\n",
       "1843   58.0       Ethan Pocic  1.618394\n",
       "1875   90.0  Shaquill Griffin  1.306580\n",
       "1880   95.0       Delano Hill -1.592872\n",
       "1887  102.0      Nazair Jones -0.455161\n",
       "1891  106.0      Amara Darboh -1.378047\n",
       "1896  111.0   Tedric Thompson -1.283247\n",
       "1972  187.0     Michael Tyson -1.043838\n",
       "1995  210.0     Justin Senior -0.735955\n",
       "2011  226.0       David Moore -0.537964\n",
       "2034  249.0      Chris Carson  1.725101"
      ]
     },
     "execution_count": 189,
     "metadata": {},
     "output_type": "execute_result"
    }
   ],
   "source": [
    "df_draft[(df_draft.Year == 2017) & (df_draft.Team == 'SEA')][['Pick','Player','RV']]"
   ]
  },
  {
   "cell_type": "markdown",
   "metadata": {},
   "source": [
    "Then I'm going to drop them into a heat map. "
   ]
  },
  {
   "cell_type": "code",
   "execution_count": 109,
   "metadata": {},
   "outputs": [
    {
     "data": {
      "text/plain": [
       "<matplotlib.axes._subplots.AxesSubplot at 0x23eec57c908>"
      ]
     },
     "execution_count": 109,
     "metadata": {},
     "output_type": "execute_result"
    },
    {
     "data": {
      "image/png": "[encoded data removed]",
      "text/plain": [
       "<matplotlib.figure.Figure at 0x23eec5523c8>"
      ]
     },
     "metadata": {},
     "output_type": "display_data"
    }
   ],
   "source": [
    "import seaborn as sns\n",
    "\n",
    "sns.heatmap(df_RVSum, center=-0)"
   ]
  },
  {
   "cell_type": "code",
   "execution_count": 110,
   "metadata": {},
   "outputs": [
    {
     "data": {
      "text/plain": [
       "<matplotlib.axes._subplots.AxesSubplot at 0x23eec655eb8>"
      ]
     },
     "execution_count": 110,
     "metadata": {},
     "output_type": "execute_result"
    },
    {
     "data": {
      "image/png": "[encoded data removed]",
      "text/plain": [
       "<matplotlib.figure.Figure at 0x23eec6bed68>"
      ]
     },
     "metadata": {},
     "output_type": "display_data"
    }
   ],
   "source": [
    "sns.heatmap(df_RVmean, center=0)"
   ]
  },
  {
   "cell_type": "markdown",
   "metadata": {},
   "source": [
    "As you can see, Seattle was the beast drafting team from 2010-2012, after which they cooled off quite a bit. The 2012 draft in particular was off the charts.\n",
    "\n",
    "One issue with this heatmap is that in general RV is biased toward zero in more recent draft years. This is an artifact of AV (and thus RV) being a counting stat. Players from earlier drafts have had more seasons to accumulate AV, whether it be positive or negative. I've tried to come up with a way of normalizing to account for this, but I've failed. I could for instance normalize by the number of years in the league, but this tends to bias older draft classes toward zero because of the number of players falling out of the league due to reitrement, injury, etc. In the end I leave it as is, because I think it's reasonable to interpret the paler right side of the heatmap as reflecting less information about players from more recent drafts. "
   ]
  },
  {
   "cell_type": "code",
   "execution_count": 98,
   "metadata": {},
   "outputs": [
    {
     "data": {
      "text/html": [
       "<div>\n",
       "<style>\n",
       "    .dataframe thead tr:only-child th {\n",
       "        text-align: right;\n",
       "    }\n",
       "\n",
       "    .dataframe thead th {\n",
       "        text-align: left;\n",
       "    }\n",
       "\n",
       "    .dataframe tbody tr th {\n",
       "        vertical-align: top;\n",
       "    }\n",
       "</style>\n",
       "<table border=\"1\" class=\"dataframe\">\n",
       "  <thead>\n",
       "    <tr style=\"text-align: right;\">\n",
       "      <th></th>\n",
       "      <th>Pick</th>\n",
       "      <th>Position</th>\n",
       "      <th>Player</th>\n",
       "      <th>CarAV</th>\n",
       "      <th>RV</th>\n",
       "    </tr>\n",
       "  </thead>\n",
       "  <tbody>\n",
       "    <tr>\n",
       "      <th>526</th>\n",
       "      <td>15.0</td>\n",
       "      <td>DE</td>\n",
       "      <td>Bruce Irvin</td>\n",
       "      <td>35.0</td>\n",
       "      <td>3.885283</td>\n",
       "    </tr>\n",
       "    <tr>\n",
       "      <th>558</th>\n",
       "      <td>47.0</td>\n",
       "      <td>LB</td>\n",
       "      <td>Bobby Wagner</td>\n",
       "      <td>73.0</td>\n",
       "      <td>25.022221</td>\n",
       "    </tr>\n",
       "    <tr>\n",
       "      <th>586</th>\n",
       "      <td>75.0</td>\n",
       "      <td>QB</td>\n",
       "      <td>Russell Wilson</td>\n",
       "      <td>88.0</td>\n",
       "      <td>23.211768</td>\n",
       "    </tr>\n",
       "    <tr>\n",
       "      <th>617</th>\n",
       "      <td>106.0</td>\n",
       "      <td>RB</td>\n",
       "      <td>Robert Turbin</td>\n",
       "      <td>16.0</td>\n",
       "      <td>4.924183</td>\n",
       "    </tr>\n",
       "    <tr>\n",
       "      <th>625</th>\n",
       "      <td>114.0</td>\n",
       "      <td>DT</td>\n",
       "      <td>Jaye Howard</td>\n",
       "      <td>17.0</td>\n",
       "      <td>3.977283</td>\n",
       "    </tr>\n",
       "    <tr>\n",
       "      <th>665</th>\n",
       "      <td>154.0</td>\n",
       "      <td>LB</td>\n",
       "      <td>Korey Toomer</td>\n",
       "      <td>11.0</td>\n",
       "      <td>3.545870</td>\n",
       "    </tr>\n",
       "    <tr>\n",
       "      <th>683</th>\n",
       "      <td>172.0</td>\n",
       "      <td>DB</td>\n",
       "      <td>Jeremy Lane</td>\n",
       "      <td>11.0</td>\n",
       "      <td>-3.536538</td>\n",
       "    </tr>\n",
       "    <tr>\n",
       "      <th>692</th>\n",
       "      <td>181.0</td>\n",
       "      <td>DB</td>\n",
       "      <td>Winston Guy</td>\n",
       "      <td>3.0</td>\n",
       "      <td>-1.527608</td>\n",
       "    </tr>\n",
       "    <tr>\n",
       "      <th>736</th>\n",
       "      <td>225.0</td>\n",
       "      <td>DT</td>\n",
       "      <td>J.R. Sweezy</td>\n",
       "      <td>31.0</td>\n",
       "      <td>20.210367</td>\n",
       "    </tr>\n",
       "    <tr>\n",
       "      <th>743</th>\n",
       "      <td>232.0</td>\n",
       "      <td>DE</td>\n",
       "      <td>Greg Scruggs</td>\n",
       "      <td>1.0</td>\n",
       "      <td>-1.039311</td>\n",
       "    </tr>\n",
       "  </tbody>\n",
       "</table>\n",
       "</div>"
      ],
      "text/plain": [
       "      Pick Position          Player  CarAV         RV\n",
       "526   15.0       DE     Bruce Irvin   35.0   3.885283\n",
       "558   47.0       LB    Bobby Wagner   73.0  25.022221\n",
       "586   75.0       QB  Russell Wilson   88.0  23.211768\n",
       "617  106.0       RB   Robert Turbin   16.0   4.924183\n",
       "625  114.0       DT     Jaye Howard   17.0   3.977283\n",
       "665  154.0       LB    Korey Toomer   11.0   3.545870\n",
       "683  172.0       DB     Jeremy Lane   11.0  -3.536538\n",
       "692  181.0       DB     Winston Guy    3.0  -1.527608\n",
       "736  225.0       DT     J.R. Sweezy   31.0  20.210367\n",
       "743  232.0       DE    Greg Scruggs    1.0  -1.039311"
      ]
     },
     "execution_count": 98,
     "metadata": {},
     "output_type": "execute_result"
    }
   ],
   "source": [
    "df_draft[(df_draft.Year == 2012) & (df_draft.Team == 'SEA')][['Pick', 'Position', 'Player', 'CarAV', 'RV']]"
   ]
  },
  {
   "cell_type": "markdown",
   "metadata": {},
   "source": [
    "Hm, this exposes something that's worth looking at in the future: why is Russell Wilson's RV lower than Bobby Wagner's, despite the fact that he was taken thirty picks later? Given that his CarAV is higher, the implication here is that his expected AV was somehow higher, which seems weird. That's a big asterisk for future investigation; I may not be estimating things correctly. Regardless, this is a good draft: lots of players overperformed (Bobby Wagner and Russell Wilson are two of the best players at their positions), and very few underperformed. \n",
    "\n",
    "Seattle's huge 2010-2012 followed by a fairly mediocre 2013-2017 leads me to ask: what teams are the most and least consistent in drafting? "
   ]
  },
  {
   "cell_type": "code",
   "execution_count": 99,
   "metadata": {
    "scrolled": true
   },
   "outputs": [
    {
     "data": {
      "text/plain": [
       "Team\n",
       "IND    173.442467\n",
       "LAR    192.455215\n",
       "CIN    218.657128\n",
       "HOU    227.944353\n",
       "NYG    228.256988\n",
       "dtype: float64"
      ]
     },
     "execution_count": 99,
     "metadata": {},
     "output_type": "execute_result"
    }
   ],
   "source": [
    "df_RVSum.var(axis=1).sort_values(ascending=True).head()"
   ]
  },
  {
   "cell_type": "markdown",
   "metadata": {},
   "source": [
    "The Colts have been the most consistent team in their drafts... consistently bad. "
   ]
  },
  {
   "cell_type": "code",
   "execution_count": 100,
   "metadata": {},
   "outputs": [
    {
     "data": {
      "text/plain": [
       "Team\n",
       "SEA    1659.132846\n",
       "BAL     789.304021\n",
       "MIA     749.667335\n",
       "TAM     738.187702\n",
       "JAX     666.677648\n",
       "dtype: float64"
      ]
     },
     "execution_count": 100,
     "metadata": {},
     "output_type": "execute_result"
    }
   ],
   "source": [
    "df_RVSum.var(axis=1).sort_values(ascending=False).head()"
   ]
  },
  {
   "cell_type": "markdown",
   "metadata": {},
   "source": [
    "It probably comes as no surprise to anyone who glanced at the heat maps that Seattle is the least consistent team. That 2010-2012 stretch of amazing followed by a mediocre-to-bad 2013-2017 gives them enormous variance. Of course variance of total RV will necessarily be affected by varying number of picks. "
   ]
  },
  {
   "cell_type": "code",
   "execution_count": 101,
   "metadata": {},
   "outputs": [
    {
     "data": {
      "text/plain": [
       "Team\n",
       "LAR    2.457440\n",
       "CIN    2.725653\n",
       "HOU    3.576157\n",
       "KAN    3.751948\n",
       "BUF    3.827330\n",
       "dtype: float64"
      ]
     },
     "execution_count": 101,
     "metadata": {},
     "output_type": "execute_result"
    }
   ],
   "source": [
    "df_RVmean.var(axis=1).sort_values(ascending=True).head()"
   ]
  },
  {
   "cell_type": "code",
   "execution_count": 102,
   "metadata": {},
   "outputs": [
    {
     "data": {
      "text/plain": [
       "Team\n",
       "SEA    17.898381\n",
       "NYJ    12.552327\n",
       "TAM    12.351032\n",
       "JAX    12.161387\n",
       "BAL    12.071434\n",
       "dtype: float64"
      ]
     },
     "execution_count": 102,
     "metadata": {},
     "output_type": "execute_result"
    }
   ],
   "source": [
    "df_RVmean.var(axis=1).sort_values(ascending=False).head()"
   ]
  },
  {
   "cell_type": "markdown",
   "metadata": {},
   "source": [
    "On a per-pick basis there's still a huge gap between Seattle and the rest of the league over this time span. \n",
    "\n",
    "One thing I'd like to do is dress up that heatmap. Enter Bokeh, a (fairly) new library for data visualization. It's intended to provide d3.js style visualizations with a minimal(ish) amount of effort. "
   ]
  },
  {
   "cell_type": "code",
   "execution_count": 103,
   "metadata": {
    "collapsed": true
   },
   "outputs": [],
   "source": [
    "# get bokeh stuff going\n",
    "from bokeh.io import show\n",
    "from bokeh.plotting import figure\n",
    "\n",
    "from bokeh.models import (\n",
    "    ColumnDataSource,\n",
    "    HoverTool,\n",
    "    LinearColorMapper,\n",
    "    BasicTicker,\n",
    "    PrintfTickFormatter,\n",
    "    ColorBar,\n",
    ")"
   ]
  },
  {
   "cell_type": "markdown",
   "metadata": {},
   "source": [
    "Once upon a time Bokeh had a built-in heatmap chart. It doesn't any more, but it's easy enough to create one following this example; effectively just manually drawing rectangle glyphs on a grid and coloring them in.\n",
    "\n",
    "One thing to note: While Bokeh can render from a dataframe, it requires that the data be in a specific format. It will not work to just hand it the data frame as is. "
   ]
  },
  {
   "cell_type": "code",
   "execution_count": 111,
   "metadata": {},
   "outputs": [
    {
     "data": {
      "text/html": [
       "<div>\n",
       "<style>\n",
       "    .dataframe thead tr:only-child th {\n",
       "        text-align: right;\n",
       "    }\n",
       "\n",
       "    .dataframe thead th {\n",
       "        text-align: left;\n",
       "    }\n",
       "\n",
       "    .dataframe tbody tr th {\n",
       "        vertical-align: top;\n",
       "    }\n",
       "</style>\n",
       "<table border=\"1\" class=\"dataframe\">\n",
       "  <thead>\n",
       "    <tr style=\"text-align: right;\">\n",
       "      <th></th>\n",
       "      <th>Team</th>\n",
       "      <th>Year</th>\n",
       "      <th>SumRV</th>\n",
       "    </tr>\n",
       "  </thead>\n",
       "  <tbody>\n",
       "    <tr>\n",
       "      <th>0</th>\n",
       "      <td>BUF</td>\n",
       "      <td>2010</td>\n",
       "      <td>-35.335860</td>\n",
       "    </tr>\n",
       "    <tr>\n",
       "      <th>1</th>\n",
       "      <td>BUF</td>\n",
       "      <td>2011</td>\n",
       "      <td>-18.032444</td>\n",
       "    </tr>\n",
       "    <tr>\n",
       "      <th>2</th>\n",
       "      <td>BUF</td>\n",
       "      <td>2012</td>\n",
       "      <td>-10.941380</td>\n",
       "    </tr>\n",
       "    <tr>\n",
       "      <th>3</th>\n",
       "      <td>BUF</td>\n",
       "      <td>2013</td>\n",
       "      <td>-10.752049</td>\n",
       "    </tr>\n",
       "    <tr>\n",
       "      <th>4</th>\n",
       "      <td>BUF</td>\n",
       "      <td>2014</td>\n",
       "      <td>14.819973</td>\n",
       "    </tr>\n",
       "  </tbody>\n",
       "</table>\n",
       "</div>"
      ],
      "text/plain": [
       "  Team  Year      SumRV\n",
       "0  BUF  2010 -35.335860\n",
       "1  BUF  2011 -18.032444\n",
       "2  BUF  2012 -10.941380\n",
       "3  BUF  2013 -10.752049\n",
       "4  BUF  2014  14.819973"
      ]
     },
     "execution_count": 111,
     "metadata": {},
     "output_type": "execute_result"
    }
   ],
   "source": [
    "# TODO do I need to do this with the index? \n",
    "df_RVSum['Team'] = df_RVSum.index\n",
    "df_RVSum.columns.name = 'Year'\n",
    "df_RVSum = df_RVSum.set_index('Team')\n",
    "\n",
    "df = pd.DataFrame(df_RVSum.stack(), columns=['SumRV']).reset_index()\n",
    "df.head()"
   ]
  },
  {
   "cell_type": "code",
   "execution_count": 112,
   "metadata": {
    "collapsed": true
   },
   "outputs": [],
   "source": [
    "years = list(df_RVSum.columns)\n",
    "teams = list(df_RVSum.index)\n",
    "\n",
    "colors = [\"#75968f\", \"#a5bab7\", \"#c9d9d3\", \"#e2e2e2\", \"#dfccce\", \"#ddb7b1\", \"#cc7878\", \"#933b41\", \"#550b1d\"]\n",
    "mapper = LinearColorMapper(palette=colors, low=df.SumRV.min(), high=df.SumRV.max())\n",
    "\n",
    "source = ColumnDataSource(df)\n",
    "\n",
    "TOOLS = \"hover,save,pan,box_zoom,reset,wheel_zoom\"\n",
    "\n",
    "p = figure(title=\"NFL Draft Performance ({0} - {1})\".format(years[0], years[-1]),\n",
    "          x_range = years, y_range = list(reversed(teams)),\n",
    "          x_axis_location=\"above\", plot_width=900, plot_height=900,\n",
    "          tools=TOOLS, toolbar_location=\"below\")\n",
    "\n",
    "p.grid.grid_line_color = None\n",
    "p.axis.axis_line_color = None\n",
    "p.axis.major_tick_line_color = None\n",
    "p.axis.major_label_text_font_size = \"10pt\"\n",
    "p.axis.major_label_standoff = 0\n",
    "# p.axis.major_label_orientation = pi / 3\n",
    "\n",
    "p.rect(x=\"Year\", y=\"Team\", width=1, height=1,\n",
    "      source=source,\n",
    "      fill_color={'field': 'SumRV', 'transform': mapper},\n",
    "      line_color=None)\n",
    "\n",
    "color_bar = ColorBar(color_mapper=mapper, major_label_text_font_size=\"5pt\",\n",
    "                    ticker=BasicTicker(desired_num_ticks=len(colors)),\n",
    "                    formatter=PrintfTickFormatter(format=\"%d\"),\n",
    "                    label_standoff=6, border_line_color=None, location=(0,0))\n",
    "p.add_layout(color_bar, 'right')\n",
    "\n",
    "p.select_one(HoverTool).tooltips = [\n",
    "    ('Team', '@Team'),\n",
    "    ('Year', '@Year'),\n",
    "    ('Total RV', '@SumRV'),\n",
    "]\n",
    "show(p)"
   ]
  }
 ],
 "metadata": {
  "kernelspec": {
   "display_name": "Python 3",
   "language": "python",
   "name": "python3"
  },
  "language_info": {
   "codemirror_mode": {
    "name": "ipython",
    "version": 3
   },
   "file_extension": ".py",
   "mimetype": "text/x-python",
   "name": "python",
   "nbconvert_exporter": "python",
   "pygments_lexer": "ipython3",
   "version": "3.6.1"
  }
 },
 "nbformat": 4,
 "nbformat_minor": 2
}
